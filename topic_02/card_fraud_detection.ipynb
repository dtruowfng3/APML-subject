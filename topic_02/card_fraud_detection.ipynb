{
 "cells": [
  {
   "cell_type": "code",
   "execution_count": 3,
   "id": "fc48068f",
   "metadata": {},
   "outputs": [],
   "source": [
    "import pandas as pd\n",
    "import numpy as np\n",
    "from sklearn.model_selection import train_test_split\n",
    "from sklearn.ensemble import RandomForestClassifier\n",
    "from sklearn.linear_model import LogisticRegression\n",
    "from sklearn.metrics import classification_report, confusion_matrix, accuracy_score, precision_score, recall_score, f1_score, roc_auc_score\n",
    "import matplotlib.pyplot as plt\n",
    "import seaborn as sns\n",
    "from imblearn.over_sampling import SMOTE\n",
    "import time"
   ]
  },
  {
   "cell_type": "code",
   "execution_count": 4,
   "id": "867dbf85",
   "metadata": {},
   "outputs": [
    {
     "name": "stdout",
     "output_type": "stream",
     "text": [
      "--- Loading Data ---\n",
      "Data loaded successfully.\n",
      "First 5 row of data\n",
      "   Time        V1        V2        V3        V4        V5        V6        V7  \\\n",
      "0   0.0 -1.359807 -0.072781  2.536347  1.378155 -0.338321  0.462388  0.239599   \n",
      "1   0.0  1.191857  0.266151  0.166480  0.448154  0.060018 -0.082361 -0.078803   \n",
      "2   1.0 -1.358354 -1.340163  1.773209  0.379780 -0.503198  1.800499  0.791461   \n",
      "3   1.0 -0.966272 -0.185226  1.792993 -0.863291 -0.010309  1.247203  0.237609   \n",
      "4   2.0 -1.158233  0.877737  1.548718  0.403034 -0.407193  0.095921  0.592941   \n",
      "\n",
      "         V8        V9  ...       V21       V22       V23       V24       V25  \\\n",
      "0  0.098698  0.363787  ... -0.018307  0.277838 -0.110474  0.066928  0.128539   \n",
      "1  0.085102 -0.255425  ... -0.225775 -0.638672  0.101288 -0.339846  0.167170   \n",
      "2  0.247676 -1.514654  ...  0.247998  0.771679  0.909412 -0.689281 -0.327642   \n",
      "3  0.377436 -1.387024  ... -0.108300  0.005274 -0.190321 -1.175575  0.647376   \n",
      "4 -0.270533  0.817739  ... -0.009431  0.798278 -0.137458  0.141267 -0.206010   \n",
      "\n",
      "        V26       V27       V28  Amount  Class  \n",
      "0 -0.189115  0.133558 -0.021053  149.62      0  \n",
      "1  0.125895 -0.008983  0.014724    2.69      0  \n",
      "2 -0.139097 -0.055353 -0.059752  378.66      0  \n",
      "3 -0.221929  0.062723  0.061458  123.50      0  \n",
      "4  0.502292  0.219422  0.215153   69.99      0  \n",
      "\n",
      "[5 rows x 31 columns]\n",
      "\n",
      "Tontal number of transactions: 284807\n",
      "Class distribution (0: Not Fraud, 1: Fraud):\n",
      "Class\n",
      "0    284315\n",
      "1       492\n",
      "Name: count, dtype: int64\n",
      "Fraudulent transaction makes up 0.1727% of the dataset.\n"
     ]
    }
   ],
   "source": [
    "print(\"--- Loading Data ---\")\n",
    "try: \n",
    "    df = pd.read_csv('archive/creditcard.csv')\n",
    "    print(\"Data loaded successfully.\")\n",
    "    print(\"First 5 row of data\")\n",
    "    print(df.head())\n",
    "    print(f\"\\nTontal number of transactions: {len(df)}\")\n",
    "    print(\"Class distribution (0: Not Fraud, 1: Fraud):\")\n",
    "    print(df['Class'].value_counts())\n",
    "    print(f\"Fraudulent transaction makes up {df['Class'].value_counts()[1] / len(df) * 100:.4f}% of the dataset.\")\n",
    "except Exception as e:\n",
    "    print(f\"Error loading data: {e}\")\n",
    "    print(\"Please ensure the file path is correct or dowload 'archive/creditcard.csv' from Kaggle.\")\n",
    "    exit()\n",
    "    \n",
    "    \n",
    "X = df.drop('Class', axis=1)\n",
    "y = df['Class']"
   ]
  },
  {
   "cell_type": "code",
   "execution_count": 5,
   "id": "a7b02ddf",
   "metadata": {},
   "outputs": [
    {
     "name": "stdout",
     "output_type": "stream",
     "text": [
      "\n",
      "--- Splitting data (Before Oversampling) ---\n",
      "Training set size: (227845, 30) samples\n",
      "Test set size: (56962, 30) samples\n",
      "Original training set class distribution:\n",
      "Class\n",
      "0    227451\n",
      "1       394\n",
      "Name: count, dtype: int64\n"
     ]
    }
   ],
   "source": [
    "print(\"\\n--- Splitting data (Before Oversampling) ---\")\n",
    "X_train, X_test, y_train, y_test = train_test_split(X, y, test_size=0.2, random_state=42, stratify=y)\n",
    "\n",
    "\n",
    "print(f\"Training set size: {X_train.shape} samples\")\n",
    "print(f\"Test set size: {X_test.shape} samples\")\n",
    "print(f\"Original training set class distribution:\\n{y_train.value_counts()}\")"
   ]
  },
  {
   "cell_type": "code",
   "execution_count": 6,
   "id": "feee9b11",
   "metadata": {},
   "outputs": [
    {
     "name": "stdout",
     "output_type": "stream",
     "text": [
      "\n",
      "--- Applying SMOTE to Training Data ---\n",
      "SMOTE execution time: 0.4054 seconds\n",
      "Resampled training set size: 454902 samples\n",
      "Resampled training set class distribution:\n",
      "Class\n",
      "0    227451\n",
      "1    227451\n",
      "Name: count, dtype: int64\n"
     ]
    }
   ],
   "source": [
    "print(\"\\n--- Applying SMOTE to Training Data ---\")\n",
    "sm = SMOTE(random_state=42)\n",
    "start_time_smote = time.time()\n",
    "X_train_res, y_train_res = sm.fit_resample(X_train, y_train)    \n",
    "smote_time = time.time() - start_time_smote\n",
    "print(f\"SMOTE execution time: {smote_time:.4f} seconds\")\n",
    "\n",
    "print(f\"Resampled training set size: {X_train_res.shape[0]} samples\")\n",
    "print(f\"Resampled training set class distribution:\\n{y_train_res.value_counts()}\")"
   ]
  },
  {
   "cell_type": "code",
   "execution_count": 19,
   "id": "d4a4f98e",
   "metadata": {},
   "outputs": [
    {
     "name": "stdout",
     "output_type": "stream",
     "text": [
      "\n",
      "--- Training Random Forest Classifier ---\n",
      "Random Forest model trained successfully in 5.4132 seconds.\n"
     ]
    }
   ],
   "source": [
    "print(\"\\n--- Training Random Forest Classifier ---\")\n",
    "\n",
    "\n",
    "# model = RandomForestClassifier(n_estimators=100, random_state=42, n_jobs=-1, class_weight='balanced')\n",
    "\n",
    "model = LogisticRegression(random_state=42, n_jobs=-1, class_weight='balanced', solver='lbfgs', max_iter=1000)\n",
    "\n",
    "\n",
    "start_time_train = time.time()\n",
    "model.fit(X_train_res, y_train_res)\n",
    "train_time = time.time() - start_time_train\n",
    "print(f\"Random Forest model trained successfully in {train_time:.4f} seconds.\")"
   ]
  },
  {
   "cell_type": "code",
   "execution_count": 20,
   "id": "8c6b4cc1",
   "metadata": {},
   "outputs": [
    {
     "name": "stdout",
     "output_type": "stream",
     "text": [
      "\n",
      "--- Evaluating Model ---\n",
      "Prediction time: 0.0063 seconds\n",
      "Accuracy: 0.9808\n",
      "Precision: 0.0759\n",
      "Recall: 0.9082\n",
      "F1-Score: 0.1400\n",
      "ROC-AUC: 0.9743\n"
     ]
    }
   ],
   "source": [
    "print(\"\\n--- Evaluating Model ---\")\n",
    "start_time_predict = time.time()\n",
    "y_pred = model.predict(X_test)\n",
    "predict_time = time.time() - start_time_predict\n",
    "print(f\"Prediction time: {predict_time:.4f} seconds\")\n",
    "\n",
    "\n",
    "accuracy = accuracy_score(y_test, y_pred)\n",
    "precision = precision_score(y_test, y_pred)\n",
    "recall = recall_score(y_test, y_pred)\n",
    "f1 = f1_score(y_test, y_pred)\n",
    "roc_auc = roc_auc_score(y_test, model.predict_proba(X_test)[:, 1])\n",
    "\n",
    "\n",
    "print(f\"Accuracy: {accuracy:.4f}\")\n",
    "print(f\"Precision: {precision:.4f}\")    \n",
    "print(f\"Recall: {recall:.4f}\")\n",
    "print(f\"F1-Score: {f1:.4f}\")\n",
    "print(f\"ROC-AUC: {roc_auc:.4f}\")"
   ]
  },
  {
   "cell_type": "code",
   "execution_count": 21,
   "id": "f53d5df1",
   "metadata": {},
   "outputs": [
    {
     "name": "stdout",
     "output_type": "stream",
     "text": [
      "Classification Report:\n",
      "              precision    recall  f1-score   support\n",
      "\n",
      "           0       1.00      0.98      0.99     56864\n",
      "           1       0.08      0.91      0.14        98\n",
      "\n",
      "    accuracy                           0.98     56962\n",
      "   macro avg       0.54      0.94      0.57     56962\n",
      "weighted avg       1.00      0.98      0.99     56962\n",
      "\n"
     ]
    }
   ],
   "source": [
    "print(\"Classification Report:\")\n",
    "print(classification_report(y_test, y_pred))"
   ]
  },
  {
   "cell_type": "code",
   "execution_count": 22,
   "id": "a4639100",
   "metadata": {},
   "outputs": [
    {
     "name": "stdout",
     "output_type": "stream",
     "text": [
      "Confusion Matrix\n",
      "[[55780  1084]\n",
      " [    9    89]]\n"
     ]
    },
    {
     "data": {
      "image/png": "[encoded data removed]",
      "text/plain": [
       "<Figure size 800x600 with 2 Axes>"
      ]
     },
     "metadata": {},
     "output_type": "display_data"
    },
    {
     "name": "stdout",
     "output_type": "stream",
     "text": [
      "\n",
      "--- Analysis of Results (from Confusion Matrix) ---\n",
      "True Negatives (Correctly identified Not Fraud): 55780\n",
      "False Positives (Not Fraud -> Fraud): 1084 (These are 'False Alarms')\n",
      "False Negatives (Fraud -> Not Fraud): 9 (These are 'Missed Frauds' - very critical!)\n",
      "True Positives (Correctly identified Fraud): 89\n"
     ]
    }
   ],
   "source": [
    "print(f\"Confusion Matrix\")\n",
    "cm = confusion_matrix(y_test, y_pred)\n",
    "print(cm)\n",
    "\n",
    "\n",
    "plt.figure(figsize=(8, 6))\n",
    "sns.heatmap(cm, annot=True, fmt='d', cmap='Blues',\n",
    "            xticklabels=['Predicted Not Fraud (0)', 'Predicted Fraud (1)'],\n",
    "            yticklabels=['Actual Not Fraud (0)', 'Actual Fraud (1)'])\n",
    "plt.title('Confusion Matrix for Credit Card Fraud Detection')\n",
    "plt.xlabel('Predicted Label')\n",
    "plt.ylabel('True Label')\n",
    "plt.show()\n",
    "\n",
    "# Phân tích confusion matrix\n",
    "print(\"\\n--- Analysis of Results (from Confusion Matrix) ---\")\n",
    "tn, fp, fn, tp = cm.ravel()\n",
    "print(f\"True Negatives (Correctly identified Not Fraud): {tn}\")\n",
    "print(f\"False Positives (Not Fraud -> Fraud): {fp} (These are 'False Alarms')\")\n",
    "print(f\"False Negatives (Fraud -> Not Fraud): {fn} (These are 'Missed Frauds' - very critical!)\")\n",
    "print(f\"True Positives (Correctly identified Fraud): {tp}\")"
   ]
  }
 ],
 "metadata": {
  "kernelspec": {
   "display_name": "card_fraud_detection",
   "language": "python",
   "name": "python3"
  },
  "language_info": {
   "codemirror_mode": {
    "name": "ipython",
    "version": 3
   },
   "file_extension": ".py",
   "mimetype": "text/x-python",
   "name": "python",
   "nbconvert_exporter": "python",
   "pygments_lexer": "ipython3",
   "version": "3.9.21"
  }
 },
 "nbformat": 4,
 "nbformat_minor": 5
}
