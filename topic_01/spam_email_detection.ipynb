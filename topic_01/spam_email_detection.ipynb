{
 "cells": [
  {
   "cell_type": "code",
   "execution_count": 1,
   "id": "b3a7a211",
   "metadata": {},
   "outputs": [],
   "source": [
    "import pandas as pd\n",
    "import numpy as np\n",
    "from sklearn.model_selection import train_test_split\n",
    "from sklearn.feature_extraction.text import CountVectorizer, TfidfVectorizer\n",
    "from sklearn.naive_bayes import MultinomialNB\n",
    "from sklearn.metrics import accuracy_score, precision_score, recall_score, f1_score, confusion_matrix\n",
    "import matplotlib.pyplot as plt\n",
    "import seaborn as sns\n",
    "import re\n",
    "import nltk\n",
    "from nltk.corpus import stopwords\n",
    "\n",
    "try:\n",
    "    stopwords.words('english')\n",
    "except LookupError:\n",
    "    nltk.download('stopwords')"
   ]
  },
  {
   "cell_type": "code",
   "execution_count": 2,
   "id": "f11bcf85",
   "metadata": {},
   "outputs": [
    {
     "name": "stdout",
     "output_type": "stream",
     "text": [
      "---Load and Explore Data---\n",
      "\n",
      "First 5 rows of the dataset:\n",
      "  label                                            message\n",
      "0   ham  Go until jurong point, crazy.. Available only ...\n",
      "1   ham                      Ok lar... Joking wif u oni...\n",
      "2  spam  Free entry in 2 a wkly comp to win FA Cup fina...\n",
      "3   ham  U dun say so early hor... U c already then say...\n",
      "4   ham  Nah I don't think he goes to usf, he lives aro...\n",
      "\n",
      "General info about the dataset:\n",
      "<class 'pandas.core.frame.DataFrame'>\n",
      "RangeIndex: 5572 entries, 0 to 5571\n",
      "Data columns (total 2 columns):\n",
      " #   Column   Non-Null Count  Dtype \n",
      "---  ------   --------------  ----- \n",
      " 0   label    5572 non-null   object\n",
      " 1   message  5572 non-null   object\n",
      "dtypes: object(2)\n",
      "memory usage: 87.2+ KB\n",
      "\n",
      "Label distribution: (spam/ham):\n",
      "label\n",
      "ham     4825\n",
      "spam     747\n",
      "Name: count, dtype: int64\n",
      "\n",
      "Created numerical label column 'label_num'(0: ham, 1: spam).\n"
     ]
    }
   ],
   "source": [
    "print(\"---Load and Explore Data---\")\n",
    "url = \"https://raw.githubusercontent.com/justmarkham/pycon-2016-tutorial/master/data/sms.tsv\"\n",
    "\n",
    "df = pd.read_csv(url, sep='\\t', header=None, names=['label', 'message'])\n",
    "df.columns = ['label', 'message']\n",
    "\n",
    "print(\"\\nFirst 5 rows of the dataset:\")\n",
    "print(df.head())\n",
    "print(\"\\nGeneral info about the dataset:\")\n",
    "df.info()\n",
    "print(\"\\nLabel distribution: (spam/ham):\")\n",
    "print(df['label'].value_counts())\n",
    "df['label_num'] = df['label'].map({'ham': 0, 'spam': 1})\n",
    "print(\"\\nCreated numerical label column 'label_num'(0: ham, 1: spam).\")"
   ]
  },
  {
   "cell_type": "code",
   "execution_count": 3,
   "id": "e6827f19",
   "metadata": {},
   "outputs": [
    {
     "name": "stdout",
     "output_type": "stream",
     "text": [
      "\n",
      "---Text Preprocessing---\n",
      "Text preprocessing completed.\n",
      "\n",
      "Original:  Go until jurong point, crazy.. Available only in bugis n great world la e buffet... Cine there got amore wat...\n",
      "Processed:  jurong point crazy available bugis great world buffet cine got amore wat\n"
     ]
    }
   ],
   "source": [
    "print(\"\\n---Text Preprocessing---\")\n",
    "stopwords = set(stopwords.words('english')) #nltk stopwords: a, an, the, in, on, because, as, until, while, etc.\n",
    "\n",
    "def preprocess_text(text):\n",
    "    text = text.lower()\n",
    "    text = re.sub(r'http\\S+|www\\S+|https\\S+', '', text, flags=re.MULTILINE)\n",
    "    \n",
    "    #keep a-z: letters; 0-9: numbers; \\S: spaces\n",
    "    text =re.sub(r'[^a-z\\s]', '', text)\n",
    "    # text =re.sub(r'[^a-z0-9\\s]', '', text)\n",
    "    \n",
    "    words = text.split()\n",
    "    \n",
    "    # keep words longer than 1, 2 or 3 characters\n",
    "    filtered_words = [word for word in words if word not in stopwords and len(word) > 2]\n",
    "    \n",
    "    return \" \".join(filtered_words)\n",
    "\n",
    "df['clean_message'] = df['message'].apply(preprocess_text)\n",
    "print(\"Text preprocessing completed.\")\n",
    "print(\"\\nOriginal: \", df['message'][0])\n",
    "print(\"Processed: \", df['clean_message'][0])"
   ]
  },
  {
   "cell_type": "code",
   "execution_count": 4,
   "id": "f57936c7",
   "metadata": {},
   "outputs": [
    {
     "name": "stdout",
     "output_type": "stream",
     "text": [
      "\n",
      "---Split Data---\n",
      "Training set: 4457 samples | Test set: 1115 samples\n"
     ]
    }
   ],
   "source": [
    "print(\"\\n---Split Data---\")\n",
    "X = df['clean_message']\n",
    "y = df['label_num']\n",
    "X_train, X_test, y_train, y_test = train_test_split(X, y, test_size=0.2, random_state=42, stratify=y)\n",
    "print(f\"Training set: {X_train.shape[0]} samples | Test set: {X_test.shape[0]} samples\")"
   ]
  },
  {
   "cell_type": "code",
   "execution_count": 5,
   "id": "47bf1047",
   "metadata": {},
   "outputs": [
    {
     "name": "stdout",
     "output_type": "stream",
     "text": [
      "\n",
      "---Text Vectorization---\n",
      "Number of features: 7156\n",
      "Training matrix shape: (4457, 7156)\n"
     ]
    }
   ],
   "source": [
    "print(\"\\n---Text Vectorization---\")\n",
    "\n",
    "# Change Vectorizer technique\n",
    "# 1. CountVectorizer: Bag of Words\n",
    "# 2. TfidfVectorizer: TF-IDF: Term Frequency-Inverse Document Frequency (Tần số từ - Tầm quan trọng của từ trong tài liệu)\n",
    "# tf = (Number of times term t appears in a document) / (Total number of terms in the document)\n",
    "# idf = log_e(Total number of documents / Number of documents with term t in it)\n",
    "\n",
    "\n",
    "# vectorizer = CountVectorizer(min_df=0.003, max_df=2000)\n",
    "\n",
    "# vectorizer = TfidfVectorizer()\n",
    "vectorizer = CountVectorizer()\n",
    "\n",
    "X_train_vect = vectorizer.fit_transform(X_train)\n",
    "X_test_vect = vectorizer.transform(X_test)\n",
    "print(f\"Number of features: {len(vectorizer.get_feature_names_out())}\")\n",
    "print(f\"Training matrix shape: {X_train_vect.shape}\")"
   ]
  },
  {
   "cell_type": "code",
   "execution_count": 6,
   "id": "bd9ef59e",
   "metadata": {},
   "outputs": [
    {
     "name": "stdout",
     "output_type": "stream",
     "text": [
      "\n",
      "---Model Training---\n",
      "Model trained successfully.\n"
     ]
    }
   ],
   "source": [
    "print(\"\\n---Model Training---\")\n",
    "\n",
    "# Change value smoothing parameters: \n",
    "# alpha=1.0 (Laplace smoothing), \n",
    "# alpha=0.5 (Lidstone smoothing), \n",
    "# alpha=0.1 (Less smoothing), \n",
    "# alpha=2.0 (More smoothing)\n",
    "\n",
    "# Change algorithm Naive Bayes:\n",
    "# BernoulliNB: suitable for binary/boolean features\n",
    "# ComplementNB: suitable for imbalanced datasets\n",
    "\n",
    "model = MultinomialNB(alpha=1.0)\n",
    "\n",
    "model.fit(X_train_vect, y_train)\n",
    "print(\"Model trained successfully.\")"
   ]
  },
  {
   "cell_type": "code",
   "execution_count": 7,
   "id": "d5723e2e",
   "metadata": {},
   "outputs": [
    {
     "name": "stdout",
     "output_type": "stream",
     "text": [
      "\n",
      "---Model Evaluation---\n",
      "Accuracy: 0.9785\n",
      "Precision: 0.9433\n",
      "Recall: 0.8926\n",
      "F1 Score: 0.9172\n",
      "\n",
      "Confusion Matrix:\n"
     ]
    },
    {
     "data": {
      "image/png": "[encoded data removed]",
      "text/plain": [
       "<Figure size 800x600 with 2 Axes>"
      ]
     },
     "metadata": {},
     "output_type": "display_data"
    },
    {
     "name": "stdout",
     "output_type": "stream",
     "text": [
      "\n",
      "True Negatives (Correctly Ham): 958\n",
      "False Positives (Ham -> Spam): 8\n",
      "False Negatives (Spam -> Ham): 16\n",
      "True Positives (Correctly Spam): 133\n"
     ]
    }
   ],
   "source": [
    "print(\"\\n---Model Evaluation---\")\n",
    "y_pred = model.predict(X_test_vect)\n",
    "accuracy = accuracy_score(y_test, y_pred)\n",
    "precision = precision_score(y_test, y_pred)\n",
    "recall = recall_score(y_test, y_pred)\n",
    "f1 = f1_score(y_test, y_pred)\n",
    "print(f\"Accuracy: {accuracy:.4f}\")\n",
    "print(f\"Precision: {precision:.4f}\")\n",
    "print(f\"Recall: {recall:.4f}\")\n",
    "print(f\"F1 Score: {f1:.4f}\")\n",
    "\n",
    "print(\"\\nConfusion Matrix:\")\n",
    "cm = confusion_matrix(y_test, y_pred)\n",
    "plt.figure(figsize=(8,6))\n",
    "sns.heatmap(cm, annot=True, fmt='d', cmap='Blues', xticklabels=['Ham (0)', 'Spam (1)'], yticklabels=['Ham (0)', 'Spam (1)'])\n",
    "plt.xlabel('Predicted')\n",
    "plt.ylabel('Actual')\n",
    "plt.title('Confusion Matrix')\n",
    "plt.show()\n",
    "\n",
    "tn, fp, fn, tp = cm.ravel()\n",
    "print(f\"\\nTrue Negatives (Correctly Ham): {tn}\")\n",
    "print(f\"False Positives (Ham -> Spam): {fp}\")\n",
    "print(f\"False Negatives (Spam -> Ham): {fn}\")       \n",
    "print(f\"True Positives (Correctly Spam): {tp}\")"
   ]
  }
 ],
 "metadata": {
  "kernelspec": {
   "display_name": "ML_AI",
   "language": "python",
   "name": "python3"
  },
  "language_info": {
   "codemirror_mode": {
    "name": "ipython",
    "version": 3
   },
   "file_extension": ".py",
   "mimetype": "text/x-python",
   "name": "python",
   "nbconvert_exporter": "python",
   "pygments_lexer": "ipython3",
   "version": "3.9.21"
  }
 },
 "nbformat": 4,
 "nbformat_minor": 5
}
